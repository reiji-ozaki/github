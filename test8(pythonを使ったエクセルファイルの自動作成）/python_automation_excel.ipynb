{
 "cells": [
  {
   "cell_type": "code",
   "execution_count": 1,
   "metadata": {},
   "outputs": [
    {
     "name": "stdout",
     "output_type": "stream",
     "text": [
      "Requirement already satisfied: openpyxl in /Users/kinocode/opt/anaconda3/lib/python3.7/site-packages (3.0.0)\n",
      "Requirement already satisfied: et-xmlfile in /Users/kinocode/opt/anaconda3/lib/python3.7/site-packages (from openpyxl) (1.0.1)\n",
      "Requirement already satisfied: jdcal in /Users/kinocode/opt/anaconda3/lib/python3.7/site-packages (from openpyxl) (1.4.1)\n"
     ]
    }
   ],
   "source": [
    "!pip install openpyxl"
   ]
  },
  {
   "cell_type": "code",
   "execution_count": 2,
   "metadata": {},
   "outputs": [],
   "source": [
    "import openpyxl\n",
    "import pandas as pd\n",
    "import glob"
   ]
  },
  {
   "cell_type": "code",
   "execution_count": 3,
   "metadata": {},
   "outputs": [],
   "source": [
    "#mac版のpath\n",
    "import_file_path = '/Users/kinocode/Desktop/MyPandas/sample.xlsx' #ファイルのパスを作成\n",
    "excel_sheet_name = '発注管理表' #編集したいシート名\n",
    "export_file_path = '/Users/kinocode/Desktop/MyPandas/output' #ファイルのパスを作成"
   ]
  },
  {
   "cell_type": "code",
   "execution_count": null,
   "metadata": {},
   "outputs": [],
   "source": [
    "#Windows版のpath\n",
    "import_file_path = 'C:\\\\Users\\\\KinoCode\\\\Desktop\\\\MyPandas\\\\sample.xlsx' #ファイルのパスを作成\n",
    "excel_sheet_name = '発注管理表' #編集したいシート名\n",
    "export_file_path = 'C:\\\\Users\\\\KinoCode\\\\Desktop\\\\MyPandas\\\\output' #ファイルのパスを作成"
   ]
  },
  {
   "cell_type": "code",
   "execution_count": 4,
   "metadata": {},
   "outputs": [
    {
     "data": {
      "text/plain": [
       "'Desktop/MyPandas/sample.xlsx'"
      ]
     },
     "execution_count": 4,
     "metadata": {},
     "output_type": "execute_result"
    }
   ],
   "source": [
    "'Desktop/MyPandas/sample.xlsx'"
   ]
  },
  {
   "cell_type": "code",
   "execution_count": 5,
   "metadata": {},
   "outputs": [],
   "source": [
    "df_order = pd.read_excel(import_file_path, sheet_name = excel_sheet_name)"
   ]
  },
  {
   "cell_type": "code",
   "execution_count": 6,
   "metadata": {},
   "outputs": [
    {
     "data": {
      "text/html": [
       "<div>\n",
       "<style scoped>\n",
       "    .dataframe tbody tr th:only-of-type {\n",
       "        vertical-align: middle;\n",
       "    }\n",
       "\n",
       "    .dataframe tbody tr th {\n",
       "        vertical-align: top;\n",
       "    }\n",
       "\n",
       "    .dataframe thead th {\n",
       "        text-align: right;\n",
       "    }\n",
       "</style>\n",
       "<table border=\"1\" class=\"dataframe\">\n",
       "  <thead>\n",
       "    <tr style=\"text-align: right;\">\n",
       "      <th></th>\n",
       "      <th>会社名</th>\n",
       "      <th>商品番号</th>\n",
       "      <th>商品分類</th>\n",
       "      <th>商品名</th>\n",
       "      <th>単価（円）</th>\n",
       "      <th>数量</th>\n",
       "      <th>発注金額</th>\n",
       "    </tr>\n",
       "  </thead>\n",
       "  <tbody>\n",
       "    <tr>\n",
       "      <td>0</td>\n",
       "      <td>株式会社A</td>\n",
       "      <td>b023</td>\n",
       "      <td>ボトムス</td>\n",
       "      <td>ロングパンツ</td>\n",
       "      <td>7000</td>\n",
       "      <td>8</td>\n",
       "      <td>56000</td>\n",
       "    </tr>\n",
       "    <tr>\n",
       "      <td>1</td>\n",
       "      <td>株式会社A</td>\n",
       "      <td>b003</td>\n",
       "      <td>ボトムス</td>\n",
       "      <td>ジーンズ</td>\n",
       "      <td>6000</td>\n",
       "      <td>10</td>\n",
       "      <td>60000</td>\n",
       "    </tr>\n",
       "    <tr>\n",
       "      <td>2</td>\n",
       "      <td>株式会社A</td>\n",
       "      <td>b003</td>\n",
       "      <td>ボトムス</td>\n",
       "      <td>ロングパンツ</td>\n",
       "      <td>7000</td>\n",
       "      <td>10</td>\n",
       "      <td>70000</td>\n",
       "    </tr>\n",
       "    <tr>\n",
       "      <td>3</td>\n",
       "      <td>株式会社A</td>\n",
       "      <td>b036</td>\n",
       "      <td>ボトムス</td>\n",
       "      <td>ロングパンツ</td>\n",
       "      <td>7000</td>\n",
       "      <td>2</td>\n",
       "      <td>14000</td>\n",
       "    </tr>\n",
       "    <tr>\n",
       "      <td>4</td>\n",
       "      <td>株式会社A</td>\n",
       "      <td>b013</td>\n",
       "      <td>トップス</td>\n",
       "      <td>ニット</td>\n",
       "      <td>8000</td>\n",
       "      <td>7</td>\n",
       "      <td>56000</td>\n",
       "    </tr>\n",
       "    <tr>\n",
       "      <td>...</td>\n",
       "      <td>...</td>\n",
       "      <td>...</td>\n",
       "      <td>...</td>\n",
       "      <td>...</td>\n",
       "      <td>...</td>\n",
       "      <td>...</td>\n",
       "      <td>...</td>\n",
       "    </tr>\n",
       "    <tr>\n",
       "      <td>195</td>\n",
       "      <td>株式会社Y</td>\n",
       "      <td>b013</td>\n",
       "      <td>ボトムス</td>\n",
       "      <td>ハーフパンツ</td>\n",
       "      <td>3000</td>\n",
       "      <td>1</td>\n",
       "      <td>3000</td>\n",
       "    </tr>\n",
       "    <tr>\n",
       "      <td>196</td>\n",
       "      <td>株式会社Y</td>\n",
       "      <td>b036</td>\n",
       "      <td>アウター</td>\n",
       "      <td>ダウン</td>\n",
       "      <td>18000</td>\n",
       "      <td>3</td>\n",
       "      <td>54000</td>\n",
       "    </tr>\n",
       "    <tr>\n",
       "      <td>197</td>\n",
       "      <td>株式会社Z</td>\n",
       "      <td>b003</td>\n",
       "      <td>アウター</td>\n",
       "      <td>ダウン</td>\n",
       "      <td>18000</td>\n",
       "      <td>4</td>\n",
       "      <td>72000</td>\n",
       "    </tr>\n",
       "    <tr>\n",
       "      <td>198</td>\n",
       "      <td>株式会社Z</td>\n",
       "      <td>b047</td>\n",
       "      <td>ボトムス</td>\n",
       "      <td>ハーフパンツ</td>\n",
       "      <td>3000</td>\n",
       "      <td>3</td>\n",
       "      <td>9000</td>\n",
       "    </tr>\n",
       "    <tr>\n",
       "      <td>199</td>\n",
       "      <td>株式会社Z</td>\n",
       "      <td>b036</td>\n",
       "      <td>ボトムス</td>\n",
       "      <td>ロングパンツ</td>\n",
       "      <td>7000</td>\n",
       "      <td>10</td>\n",
       "      <td>70000</td>\n",
       "    </tr>\n",
       "  </tbody>\n",
       "</table>\n",
       "<p>200 rows × 7 columns</p>\n",
       "</div>"
      ],
      "text/plain": [
       "       会社名  商品番号  商品分類     商品名  単価（円）  数量   発注金額\n",
       "0    株式会社A  b023  ボトムス  ロングパンツ   7000   8  56000\n",
       "1    株式会社A  b003  ボトムス    ジーンズ   6000  10  60000\n",
       "2    株式会社A  b003  ボトムス  ロングパンツ   7000  10  70000\n",
       "3    株式会社A  b036  ボトムス  ロングパンツ   7000   2  14000\n",
       "4    株式会社A  b013  トップス     ニット   8000   7  56000\n",
       "..     ...   ...   ...     ...    ...  ..    ...\n",
       "195  株式会社Y  b013  ボトムス  ハーフパンツ   3000   1   3000\n",
       "196  株式会社Y  b036  アウター     ダウン  18000   3  54000\n",
       "197  株式会社Z  b003  アウター     ダウン  18000   4  72000\n",
       "198  株式会社Z  b047  ボトムス  ハーフパンツ   3000   3   9000\n",
       "199  株式会社Z  b036  ボトムス  ロングパンツ   7000  10  70000\n",
       "\n",
       "[200 rows x 7 columns]"
      ]
     },
     "execution_count": 6,
     "metadata": {},
     "output_type": "execute_result"
    }
   ],
   "source": [
    "df_order"
   ]
  },
  {
   "cell_type": "code",
   "execution_count": 7,
   "metadata": {},
   "outputs": [],
   "source": [
    "company_name = df_order['会社名'].unique() #会社名をユニークにして取得"
   ]
  },
  {
   "cell_type": "code",
   "execution_count": 8,
   "metadata": {},
   "outputs": [
    {
     "data": {
      "text/plain": [
       "array(['株式会社A', '株式会社B', '株式会社C', '株式会社D', '株式会社E', '株式会社F', '株式会社G',\n",
       "       '株式会社H', '株式会社I', '株式会社J', '株式会社K', '株式会社L', '株式会社M', '株式会社N',\n",
       "       '株式会社O', '株式会社P', '株式会社Q', '株式会社R', '株式会社S', '株式会社T', '株式会社U',\n",
       "       '株式会社V', '株式会社W', '株式会社X', '株式会社Y', '株式会社Z'], dtype=object)"
      ]
     },
     "execution_count": 8,
     "metadata": {},
     "output_type": "execute_result"
    }
   ],
   "source": [
    "company_name"
   ]
  },
  {
   "cell_type": "code",
   "execution_count": null,
   "metadata": {},
   "outputs": [],
   "source": [
    "type(company_name)"
   ]
  },
  {
   "cell_type": "code",
   "execution_count": null,
   "metadata": {},
   "outputs": [],
   "source": [
    "type(df_order)"
   ]
  },
  {
   "cell_type": "code",
   "execution_count": null,
   "metadata": {},
   "outputs": [],
   "source": [
    "df_order['会社名'] == '株式会社A'"
   ]
  },
  {
   "cell_type": "code",
   "execution_count": null,
   "metadata": {},
   "outputs": [],
   "source": [
    "df_order[df_order['会社名'] == '株式会社A']"
   ]
  },
  {
   "cell_type": "code",
   "execution_count": null,
   "metadata": {},
   "outputs": [],
   "source": [
    "#フィルタリングして別ファイルに保存していく\n",
    "for i in company_name:\n",
    "    print(i)"
   ]
  },
  {
   "cell_type": "code",
   "execution_count": null,
   "metadata": {},
   "outputs": [],
   "source": [
    "for i in company_name:\n",
    "    df_order_company = df_order[df_order['会社名'] == i]\n",
    "    print(df_order_company)"
   ]
  },
  {
   "cell_type": "code",
   "execution_count": null,
   "metadata": {},
   "outputs": [],
   "source": [
    "for i in company_name:\n",
    "    df_order_company = df_order[df_order['会社名'] == i]\n",
    "    df_order_company.to_excel(export_file_path+'/'+i+'.xlsx')"
   ]
  },
  {
   "cell_type": "code",
   "execution_count": null,
   "metadata": {},
   "outputs": [],
   "source": []
  },
  {
   "cell_type": "code",
   "execution_count": null,
   "metadata": {},
   "outputs": [],
   "source": []
  },
  {
   "cell_type": "code",
   "execution_count": null,
   "metadata": {},
   "outputs": [],
   "source": []
  },
  {
   "cell_type": "code",
   "execution_count": null,
   "metadata": {},
   "outputs": [],
   "source": []
  },
  {
   "cell_type": "code",
   "execution_count": null,
   "metadata": {},
   "outputs": [],
   "source": [
    "export_file_path = '/Users/kinocode/Desktop/MyPandas'"
   ]
  },
  {
   "cell_type": "code",
   "execution_count": null,
   "metadata": {},
   "outputs": [],
   "source": [
    "import_folder_path = '/Users/kinocode/Desktop/MyPandas/rawdate' #ファイルのパスを作成"
   ]
  },
  {
   "cell_type": "code",
   "execution_count": null,
   "metadata": {},
   "outputs": [],
   "source": [
    "path = import_folder_path + '/' + '*.xlsx'"
   ]
  },
  {
   "cell_type": "code",
   "execution_count": null,
   "metadata": {},
   "outputs": [],
   "source": [
    "file_path = glob.glob(path)"
   ]
  },
  {
   "cell_type": "code",
   "execution_count": null,
   "metadata": {},
   "outputs": [],
   "source": [
    "file_path"
   ]
  },
  {
   "cell_type": "code",
   "execution_count": null,
   "metadata": {},
   "outputs": [],
   "source": [
    "df_concat=pd.DataFrame()\n",
    "\n",
    "for i in file_path:\n",
    "    df_read_excel=pd.read_excel(i)\n",
    "    print(df_read_excel.head(3))"
   ]
  },
  {
   "cell_type": "code",
   "execution_count": null,
   "metadata": {},
   "outputs": [],
   "source": [
    "df_concat=pd.DataFrame()\n",
    "\n",
    "for i in file_path:\n",
    "    df_read_excel=pd.read_excel(i)\n",
    "    df_concat=pd.concat([df_read_excel,df_concat])"
   ]
  },
  {
   "cell_type": "code",
   "execution_count": null,
   "metadata": {},
   "outputs": [],
   "source": [
    "df_concat"
   ]
  },
  {
   "cell_type": "code",
   "execution_count": null,
   "metadata": {},
   "outputs": [],
   "source": [
    "df_drop = df_concat.drop('Unnamed: 0', axis = 1)"
   ]
  },
  {
   "cell_type": "code",
   "execution_count": null,
   "metadata": {},
   "outputs": [],
   "source": [
    "df_drop.head(3)"
   ]
  },
  {
   "cell_type": "code",
   "execution_count": null,
   "metadata": {},
   "outputs": [],
   "source": [
    "df_sort = df_drop.sort_values(by='達成率', ascending=False)"
   ]
  },
  {
   "cell_type": "code",
   "execution_count": null,
   "metadata": {},
   "outputs": [],
   "source": [
    "df_sort"
   ]
  },
  {
   "cell_type": "code",
   "execution_count": null,
   "metadata": {},
   "outputs": [],
   "source": [
    "df_sort.to_excel(export_file_path +'/' + '予実管理表.xlsx')"
   ]
  },
  {
   "cell_type": "code",
   "execution_count": null,
   "metadata": {},
   "outputs": [],
   "source": [
    "workbook = openpyxl.load_workbook(export_file_path+'/予実管理表.xlsx')\n",
    "worksheet = workbook.worksheets[0]\n",
    "worksheet.delete_cols(1)\n",
    "workbook.save(export_file_path+'/予実管理表_01.xlsx')"
   ]
  },
  {
   "cell_type": "code",
   "execution_count": null,
   "metadata": {},
   "outputs": [],
   "source": []
  },
  {
   "cell_type": "code",
   "execution_count": null,
   "metadata": {},
   "outputs": [],
   "source": []
  },
  {
   "cell_type": "code",
   "execution_count": null,
   "metadata": {},
   "outputs": [],
   "source": []
  },
  {
   "cell_type": "code",
   "execution_count": null,
   "metadata": {},
   "outputs": [],
   "source": []
  }
 ],
 "metadata": {
  "kernelspec": {
   "display_name": "Python 3",
   "language": "python",
   "name": "python3"
  },
  "language_info": {
   "codemirror_mode": {
    "name": "ipython",
    "version": 3
   },
   "file_extension": ".py",
   "mimetype": "text/x-python",
   "name": "python",
   "nbconvert_exporter": "python",
   "pygments_lexer": "ipython3",
   "version": "3.7.4"
  }
 },
 "nbformat": 4,
 "nbformat_minor": 4
}
